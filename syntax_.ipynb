{
 "cells": [
  {
   "cell_type": "code",
   "execution_count": 3,
   "metadata": {},
   "outputs": [
    {
     "name": "stdout",
     "output_type": "stream",
     "text": [
      "1\n",
      "2\n",
      "3\n",
      "4\n"
     ]
    }
   ],
   "source": [
    "a = [1, 2, 3, 4]\n",
    "for i in a:\n",
    "    print(i)"
   ]
  },
  {
   "cell_type": "code",
   "execution_count": 14,
   "metadata": {},
   "outputs": [
    {
     "name": "stdout",
     "output_type": "stream",
     "text": [
      "1\n",
      "2\n",
      "3\n",
      "4\n"
     ]
    }
   ],
   "source": [
    "a = [1, 2, 3, 4]\n",
    "for i in range(len(a)): #range(\\d)는 리스트를 만든다, 첫 번째 i = 0\n",
    "    print(a[i])"
   ]
  },
  {
   "cell_type": "code",
   "execution_count": 26,
   "metadata": {},
   "outputs": [
    {
     "name": "stdout",
     "output_type": "stream",
     "text": [
      "red\n",
      "green\n",
      "blue\n",
      "purple\n"
     ]
    }
   ],
   "source": [
    "a = [1, 2, 3, 4]\n",
    "for s in range(len(a)):    \n",
    "    print(a[s] "
   ]
  },
  {
   "cell_type": "markdown",
   "metadata": {},
   "source": [
    "- enumerate\n",
    "- zip\n",
    "- format\n",
    "- else 를 어떻게 쓰는지\n",
    "\n",
    "for와 for문 사이에 다른 명령이 들어갈 수 있다."
   ]
  },
  {
   "cell_type": "markdown",
   "metadata": {},
   "source": [
    "#### enumerate\n",
    "이 함수는 순서가 있는 자료형(리스트, 튜플, 문자열)을 입력으로 받아 인덱스 값을 포함하는 enumerate 객체를 돌려준다."
   ]
  },
  {
   "cell_type": "code",
   "execution_count": 7,
   "metadata": {},
   "outputs": [
    {
     "name": "stdout",
     "output_type": "stream",
     "text": [
      "0 body\n",
      "1 foo\n",
      "2 bar\n"
     ]
    }
   ],
   "source": [
    "for i, name in enumerate(['body', 'foo', 'bar']):\n",
    "    print(i, name)"
   ]
  },
  {
   "cell_type": "markdown",
   "metadata": {},
   "source": [
    "#### zip\n",
    "zip은 동일한 개수로 이루어진 자료형을 묶어 주는 역할을 하는 함수이다."
   ]
  },
  {
   "cell_type": "code",
   "execution_count": 8,
   "metadata": {},
   "outputs": [
    {
     "data": {
      "text/plain": [
       "[(1, 4), (2, 5), (3, 6)]"
      ]
     },
     "execution_count": 8,
     "metadata": {},
     "output_type": "execute_result"
    }
   ],
   "source": [
    "list(zip([1, 2, 3], [4, 5, 6]))"
   ]
  },
  {
   "cell_type": "code",
   "execution_count": 9,
   "metadata": {},
   "outputs": [
    {
     "data": {
      "text/plain": [
       "[(1, 4, 7), (2, 5, 8), (3, 6, 9)]"
      ]
     },
     "execution_count": 9,
     "metadata": {},
     "output_type": "execute_result"
    }
   ],
   "source": [
    "list(zip([1, 2, 3], [4, 5, 6], [7, 8, 9]))"
   ]
  },
  {
   "cell_type": "code",
   "execution_count": 10,
   "metadata": {},
   "outputs": [
    {
     "data": {
      "text/plain": [
       "[('a', 'd'), ('b', 'e'), ('c', 'f')]"
      ]
     },
     "execution_count": 10,
     "metadata": {},
     "output_type": "execute_result"
    }
   ],
   "source": [
    "list(zip(\"abc\", \"def\"))"
   ]
  },
  {
   "cell_type": "code",
   "execution_count": 6,
   "metadata": {},
   "outputs": [
    {
     "name": "stdout",
     "output_type": "stream",
     "text": [
      "1\n",
      "2\n",
      "3\n",
      "4\n"
     ]
    }
   ],
   "source": [
    "a = [1, 2, 3, 4]\n",
    "s = [0.7, 0.3, 0.1, 0.4]\n",
    "\n",
    "for i, s in enumerate(a): #variable 두개\n",
    "    print(a[i])"
   ]
  },
  {
   "cell_type": "code",
   "execution_count": 37,
   "metadata": {},
   "outputs": [
    {
     "name": "stdout",
     "output_type": "stream",
     "text": [
      "red: 70.0\n",
      "green: 30.0\n",
      "blue: 10.0\n",
      "purple: 40.0\n"
     ]
    }
   ],
   "source": [
    "a = ['red', 'green', 'blue', 'purple']\n",
    "b = [0.7, 0.3, 0.1, 0.4]\n",
    "\n",
    "for i, s in enumerate(a): #variable 두개\n",
    "    print(\"{}: {}\".format(s, b[i]*100)) #print, range 등 은 함수, for문 쓸 때 indent하기"
   ]
  },
  {
   "cell_type": "code",
   "execution_count": 40,
   "metadata": {},
   "outputs": [
    {
     "name": "stdout",
     "output_type": "stream",
     "text": [
      "red: 70.0\n",
      "green: 30.0\n",
      "blue: 10.0\n",
      "purple: 40.0\n"
     ]
    }
   ],
   "source": [
    "a = ['red', 'green', 'blue', 'purple']\n",
    "b = [0.7, 0.3, 0.1, 0.4]\n",
    "\n",
    "for s, i in zip(a, b): \n",
    "    print(\"{}: {}\".format(s, i*100))"
   ]
  },
  {
   "cell_type": "code",
   "execution_count": 49,
   "metadata": {},
   "outputs": [
    {
     "name": "stdout",
     "output_type": "stream",
     "text": [
      "no\n"
     ]
    }
   ],
   "source": [
    "a = 0\n",
    "if a != 0:\n",
    "    print('Hi')\n",
    "    print('Hello')\n",
    "else:\n",
    "    print('no')"
   ]
  },
  {
   "cell_type": "code",
   "execution_count": 53,
   "metadata": {},
   "outputs": [
    {
     "name": "stdout",
     "output_type": "stream",
     "text": [
      "3\n",
      "4\n",
      "6\n",
      "8\n"
     ]
    }
   ],
   "source": [
    "for i in range(1,3): #시험*출제\n",
    "    for j in range(3,5): # 4번\n",
    "        print(i*j)"
   ]
  },
  {
   "cell_type": "code",
   "execution_count": 54,
   "metadata": {},
   "outputs": [
    {
     "name": "stdout",
     "output_type": "stream",
     "text": [
      "1\n",
      "3\n",
      "4\n",
      "2\n",
      "6\n",
      "8\n"
     ]
    }
   ],
   "source": [
    "for i in range(1,3):\n",
    "    print(i)\n",
    "    for j in range(3,5):\n",
    "        print(i*j)"
   ]
  },
  {
   "cell_type": "code",
   "execution_count": 60,
   "metadata": {},
   "outputs": [],
   "source": [
    "for i in range(1,3):\n",
    "    if i >= 3:\n",
    "        for j in range(3,5):\n",
    "            print(i*j)"
   ]
  },
  {
   "cell_type": "code",
   "execution_count": null,
   "metadata": {},
   "outputs": [],
   "source": []
  }
 ],
 "metadata": {
  "kernelspec": {
   "display_name": "Python 3",
   "language": "python",
   "name": "python3"
  },
  "language_info": {
   "codemirror_mode": {
    "name": "ipython",
    "version": 3
   },
   "file_extension": ".py",
   "mimetype": "text/x-python",
   "name": "python",
   "nbconvert_exporter": "python",
   "pygments_lexer": "ipython3",
   "version": "3.7.3"
  }
 },
 "nbformat": 4,
 "nbformat_minor": 2
}
